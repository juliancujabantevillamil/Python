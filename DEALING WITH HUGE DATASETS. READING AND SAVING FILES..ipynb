{
 "cells": [
  {
   "cell_type": "markdown",
   "id": "40208e98",
   "metadata": {},
   "source": [
    "# DEALING WITH HUGE DATASETS.\n",
    "#### Reading and saving files."
   ]
  },
  {
   "cell_type": "markdown",
   "id": "e2648ebd",
   "metadata": {},
   "source": [
    "## DATATABLE"
   ]
  },
  {
   "cell_type": "markdown",
   "id": "a059a848",
   "metadata": {},
   "source": [
    "When the dataset is in CSV extension (By teh way, huge CSV datasets are not a good practice)\n",
    "Using library datatable to open the file as a pandas dataframe will be faster than reading the CSV directly with pandas.\n",
    "Previously the datatable library must be installed."
   ]
  },
  {
   "cell_type": "code",
   "execution_count": null,
   "id": "c07f4280",
   "metadata": {},
   "outputs": [],
   "source": [
    "import datatable as dt\n",
    "import pandas as pd\n",
    "df=dt.tfread(r'filepath/file.csv').to_pandas()"
   ]
  },
  {
   "cell_type": "markdown",
   "id": "9e5af254",
   "metadata": {},
   "source": [
    "---"
   ]
  },
  {
   "cell_type": "markdown",
   "id": "f53ed456",
   "metadata": {},
   "source": [
    "## CONVERTING FILES INTO ANOTHER FORMATS"
   ]
  },
  {
   "cell_type": "markdown",
   "id": "ae6b39d5",
   "metadata": {},
   "source": [
    "Its usual to have CSV files with huge amount of data. This kinf of file is not the best practice when handling large datasets. It can be used another file extensions, which are ligther and faster.\n",
    "Note that previously the corresponding libraries must be installed"
   ]
  },
  {
   "cell_type": "markdown",
   "id": "42735721",
   "metadata": {},
   "source": [
    "### Parquet"
   ]
  },
  {
   "cell_type": "markdown",
   "id": "c2a6260c",
   "metadata": {},
   "source": [
    "Parquet files are a compressed files. They have .parquet extension and are ligther and faster than CSV. Previously **'fastparquet'** and **'pyarrow'** must be installed. Pandas library can read this kind of files and open them in a dataframe."
   ]
  },
  {
   "cell_type": "code",
   "execution_count": null,
   "id": "2f1fc09e",
   "metadata": {},
   "outputs": [],
   "source": [
    "#Reading parquet file\n",
    "df=pd.read_parquet(r'filepath/file.parquet')"
   ]
  },
  {
   "cell_type": "code",
   "execution_count": null,
   "id": "5adad29f",
   "metadata": {},
   "outputs": [],
   "source": [
    "#Saving to a parquet file\n",
    "df.to_parquet(r'filepath/file.parquet')"
   ]
  },
  {
   "cell_type": "markdown",
   "id": "4905faaa",
   "metadata": {},
   "source": [
    "### Feather"
   ]
  },
  {
   "cell_type": "markdown",
   "id": "d25b4b11",
   "metadata": {},
   "source": [
    "Feather also is a lighter and faster than CSV. Previously **''** library must be installed. Pandas library provides a method to read and open this kind of files in a pandas data frame."
   ]
  },
  {
   "cell_type": "code",
   "execution_count": null,
   "id": "a59c9f98",
   "metadata": {},
   "outputs": [],
   "source": [
    "#Reading feather file\n",
    "df=pd.read_feather(r'filepath/file.feather')"
   ]
  },
  {
   "cell_type": "code",
   "execution_count": null,
   "id": "6666e86e",
   "metadata": {},
   "outputs": [],
   "source": [
    "#Saving Feather file\n",
    "df.to_feather(r'filepath/file.feather')"
   ]
  },
  {
   "cell_type": "markdown",
   "id": "fe43d6e3",
   "metadata": {},
   "source": [
    "### HDF5"
   ]
  },
  {
   "cell_type": "markdown",
   "id": "79b2c27b",
   "metadata": {},
   "source": [
    "Pending"
   ]
  },
  {
   "cell_type": "code",
   "execution_count": null,
   "id": "f827ffdb",
   "metadata": {},
   "outputs": [],
   "source": [
    "#Reading HDF5 files\n",
    "df=pd.read_hdf(r'filepath/file.h5', 'df')"
   ]
  },
  {
   "cell_type": "code",
   "execution_count": null,
   "id": "bd13a0e3",
   "metadata": {},
   "outputs": [],
   "source": [
    "#Saving HDF5 files\n",
    "df.to_hdf(r'filepath/file.h5', key='df', mode='w')"
   ]
  }
 ],
 "metadata": {
  "kernelspec": {
   "display_name": "Python 3 (ipykernel)",
   "language": "python",
   "name": "python3"
  },
  "language_info": {
   "codemirror_mode": {
    "name": "ipython",
    "version": 3
   },
   "file_extension": ".py",
   "mimetype": "text/x-python",
   "name": "python",
   "nbconvert_exporter": "python",
   "pygments_lexer": "ipython3",
   "version": "3.8.8"
  }
 },
 "nbformat": 4,
 "nbformat_minor": 5
}
